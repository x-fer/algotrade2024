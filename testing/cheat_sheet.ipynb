{
 "cells": [
  {
   "cell_type": "code",
   "execution_count": 76,
   "id": "25d31bcd-1861-4583-ac64-45f421e99440",
   "metadata": {},
   "outputs": [],
   "source": [
    "import requests\n",
    "from enum import Enum\n",
    "import algotrade_api\n",
    "from algotrade_api import PowerPlant\n",
    "from time import sleep"
   ]
  },
  {
   "cell_type": "code",
   "execution_count": 77,
   "id": "b5b58cce-d433-4f3d-8f84-42aae47ee77e",
   "metadata": {},
   "outputs": [],
   "source": [
    "algotrade_api.set_team_secret(\"gogi\")"
   ]
  },
  {
   "cell_type": "code",
   "execution_count": 78,
   "id": "d7081395-6abc-460c-ad08-9b081e2ecfa1",
   "metadata": {},
   "outputs": [],
   "source": [
    "algotrade_api.set_url(\"localhost:3000\")"
   ]
  },
  {
   "cell_type": "code",
   "execution_count": 79,
   "id": "0d4836fb-959d-45d5-9f99-29e6134dfe94",
   "metadata": {},
   "outputs": [
    {
     "data": {
      "text/plain": [
       "{'player_id': 23, 'player_name': '5'}"
      ]
     },
     "execution_count": 79,
     "metadata": {},
     "output_type": "execute_result"
    }
   ],
   "source": [
    "algotrade_api.set_game_id(1)\n",
    "algotrade_api.create_player(5).json()"
   ]
  },
  {
   "cell_type": "code",
   "execution_count": 80,
   "id": "568ba6c9-24a2-4732-bfc0-4da63d4b5479",
   "metadata": {},
   "outputs": [],
   "source": [
    "algotrade_api.set_player_id(20)"
   ]
  },
  {
   "cell_type": "code",
   "execution_count": 81,
   "id": "c38850b8-d12f-4d22-adea-c4ed86aef7d3",
   "metadata": {},
   "outputs": [
    {
     "data": {
      "text/plain": [
       "{'detail': 'Game is already finished'}"
      ]
     },
     "execution_count": 81,
     "metadata": {},
     "output_type": "execute_result"
    }
   ],
   "source": [
    "algotrade_api.get_player().json()"
   ]
  },
  {
   "cell_type": "code",
   "execution_count": 82,
   "id": "6b0d2f54-8518-4490-9270-427986507a6b",
   "metadata": {},
   "outputs": [
    {
     "data": {
      "text/plain": [
       "{'game_id': 1,\n",
       " 'game_name': 'Stalna igra',\n",
       " 'is_contest': False,\n",
       " 'start_time': '2024-02-28T22:15:43.889216',\n",
       " 'total_ticks': 2300,\n",
       " 'tick_time': 3000,\n",
       " 'current_tick': 2300,\n",
       " 'is_finished': True,\n",
       " 'current_time': '2024-02-28T23:32:02.596224'}"
      ]
     },
     "execution_count": 82,
     "metadata": {},
     "output_type": "execute_result"
    }
   ],
   "source": [
    "algotrade_api.get_game().json()"
   ]
  },
  {
   "cell_type": "code",
   "execution_count": 83,
   "id": "a82358c8-1c3c-4f8b-9b48-12b7a53155ca",
   "metadata": {},
   "outputs": [
    {
     "data": {
      "text/plain": [
       "{'detail': 'Game is already finished'}"
      ]
     },
     "execution_count": 83,
     "metadata": {},
     "output_type": "execute_result"
    }
   ],
   "source": [
    "algotrade_api.get_player_orders().json()"
   ]
  },
  {
   "cell_type": "code",
   "execution_count": 84,
   "id": "c6a44c69-844d-40cc-8bce-bad147d802d4",
   "metadata": {},
   "outputs": [
    {
     "data": {
      "text/plain": [
       "{'detail': 'Game is already finished'}"
      ]
     },
     "execution_count": 84,
     "metadata": {},
     "output_type": "execute_result"
    }
   ],
   "source": [
    "algotrade_api.get_orders().json()"
   ]
  },
  {
   "cell_type": "code",
   "execution_count": 9,
   "id": "fd6ce0b2-34d1-4714-9f0b-c98f0838ef6c",
   "metadata": {},
   "outputs": [
    {
     "data": {
      "text/plain": [
       "{'detail': 'Game is already finished'}"
      ]
     },
     "execution_count": 9,
     "metadata": {},
     "output_type": "execute_result"
    }
   ],
   "source": [
    "algotrade_api.get_plants().json()"
   ]
  },
  {
   "cell_type": "code",
   "execution_count": 26,
   "id": "6746a7ee-f518-40ee-b90a-f34e3fa604dc",
   "metadata": {},
   "outputs": [
    {
     "data": {
      "text/plain": [
       "{'detail': 'Game is already finished'}"
      ]
     },
     "execution_count": 26,
     "metadata": {},
     "output_type": "execute_result"
    }
   ],
   "source": [
    "algotrade_api.buy_plant(PowerPlant.COAL).json()"
   ]
  },
  {
   "cell_type": "code",
   "execution_count": 60,
   "id": "e5773e31-1620-4d2f-95b3-85e62926e05e",
   "metadata": {},
   "outputs": [
    {
     "name": "stdout",
     "output_type": "stream",
     "text": [
      "{'detail': 'Game is already finished'}\n",
      "{'detail': 'Game is already finished'}\n",
      "{'detail': 'Game is already finished'}\n"
     ]
    },
    {
     "ename": "KeyboardInterrupt",
     "evalue": "",
     "output_type": "error",
     "traceback": [
      "\u001b[0;31m---------------------------------------------------------------------------\u001b[0m",
      "\u001b[0;31mKeyboardInterrupt\u001b[0m                         Traceback (most recent call last)",
      "Cell \u001b[0;32mIn[60], line 3\u001b[0m\n\u001b[1;32m      1\u001b[0m \u001b[38;5;28;01mwhile\u001b[39;00m \u001b[38;5;28;01mTrue\u001b[39;00m:\n\u001b[1;32m      2\u001b[0m     \u001b[38;5;28mprint\u001b[39m(algotrade_api\u001b[38;5;241m.\u001b[39mget_player()\u001b[38;5;241m.\u001b[39mjson())\n\u001b[0;32m----> 3\u001b[0m     \u001b[43msleep\u001b[49m\u001b[43m(\u001b[49m\u001b[38;5;241;43m1\u001b[39;49m\u001b[43m)\u001b[49m\n",
      "\u001b[0;31mKeyboardInterrupt\u001b[0m: "
     ]
    }
   ],
   "source": [
    "while True:\n",
    "    print(algotrade_api.get_player().json())\n",
    "    sleep(1)"
   ]
  },
  {
   "cell_type": "code",
   "execution_count": null,
   "id": "41d5c9ad-be0c-48f4-94b6-57efd515ee21",
   "metadata": {},
   "outputs": [],
   "source": []
  }
 ],
 "metadata": {
  "kernelspec": {
   "display_name": "Python 3 (ipykernel)",
   "language": "python",
   "name": "python3"
  },
  "language_info": {
   "codemirror_mode": {
    "name": "ipython",
    "version": 3
   },
   "file_extension": ".py",
   "mimetype": "text/x-python",
   "name": "python",
   "nbconvert_exporter": "python",
   "pygments_lexer": "ipython3",
   "version": "3.12.1"
  }
 },
 "nbformat": 4,
 "nbformat_minor": 5
}

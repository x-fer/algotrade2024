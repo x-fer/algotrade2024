{
 "cells": [
  {
   "cell_type": "code",
   "execution_count": 1,
   "id": "25d31bcd-1861-4583-ac64-45f421e99440",
   "metadata": {},
   "outputs": [],
   "source": [
    "import requests\n",
    "from enum import Enum\n",
    "import algotrade_api\n",
    "from algotrade_api import PowerPlant, AlgotradeApi\n",
    "from time import sleep"
   ]
  },
  {
   "cell_type": "code",
   "execution_count": 9,
   "id": "b5b58cce-d433-4f3d-8f84-42aae47ee77e",
   "metadata": {},
   "outputs": [],
   "source": [
    "url = \"localhost:3000\"\n",
    "\n",
    "team_secret = \"gogi\"\n",
    "game_id = 2\n",
    "player_id = -1  # we will get this later\n",
    "\n",
    "api = AlgotradeApi(url, team_secret, game_id, player_id)"
   ]
  },
  {
   "cell_type": "code",
   "execution_count": 10,
   "id": "0d4836fb-959d-45d5-9f99-29e6134dfe94",
   "metadata": {},
   "outputs": [
    {
     "data": {
      "text/plain": [
       "{'detail': 'Only one player per team can be created in contest mode'}"
      ]
     },
     "execution_count": 10,
     "metadata": {},
     "output_type": "execute_result"
    }
   ],
   "source": [
    "api.create_player().json()"
   ]
  },
  {
   "cell_type": "code",
   "execution_count": 15,
   "id": "91d9cb44-25bb-4a43-b2b0-ac6df285ba21",
   "metadata": {},
   "outputs": [
    {
     "data": {
      "text/plain": [
       "1"
      ]
     },
     "execution_count": 15,
     "metadata": {},
     "output_type": "execute_result"
    }
   ],
   "source": [
    "api.get_players().json()[0]['player_id']"
   ]
  },
  {
   "cell_type": "code",
   "execution_count": 17,
   "id": "bbb3dd0d-44cc-4bc8-a446-ee2364d0740f",
   "metadata": {},
   "outputs": [],
   "source": [
    "api.set_player_id(1)"
   ]
  },
  {
   "cell_type": "code",
   "execution_count": 18,
   "id": "c38850b8-d12f-4d22-adea-c4ed86aef7d3",
   "metadata": {},
   "outputs": [
    {
     "data": {
      "text/plain": [
       "{'player_id': 1,\n",
       " 'player_name': 'Goranov_tim_1',\n",
       " 'game_id': 2,\n",
       " 'energy_price': 1000000000,\n",
       " 'money': 50000000,\n",
       " 'coal': 0,\n",
       " 'uranium': 0,\n",
       " 'biomass': 0,\n",
       " 'gas': 0,\n",
       " 'oil': 0,\n",
       " 'coal_plants_owned': 0,\n",
       " 'uranium_plants_owned': 0,\n",
       " 'biomass_plants_owned': 0,\n",
       " 'gas_plants_owned': 0,\n",
       " 'oil_plants_owned': 0,\n",
       " 'geothermal_plants_owned': 0,\n",
       " 'wind_plants_owned': 0,\n",
       " 'solar_plants_owned': 0,\n",
       " 'hydro_plants_owned': 0,\n",
       " 'coal_plants_powered': 0,\n",
       " 'uranium_plants_powered': 0,\n",
       " 'biomass_plants_powered': 0,\n",
       " 'gas_plants_powered': 0,\n",
       " 'oil_plants_powered': 0,\n",
       " 'geothermal_plants_powered': 0,\n",
       " 'wind_plants_powered': 0,\n",
       " 'solar_plants_powered': 0,\n",
       " 'hydro_plants_powered': 0}"
      ]
     },
     "execution_count": 18,
     "metadata": {},
     "output_type": "execute_result"
    }
   ],
   "source": [
    "api.get_player().json()"
   ]
  },
  {
   "cell_type": "code",
   "execution_count": 20,
   "id": "2be0fa5c-6ad7-4b31-b73b-dd573d291851",
   "metadata": {},
   "outputs": [
    {
     "data": {
      "text/plain": [
       "{'detail': 'Players cannot be reset in contest mode'}"
      ]
     },
     "execution_count": 20,
     "metadata": {},
     "output_type": "execute_result"
    }
   ],
   "source": [
    "api.reset_player().json()"
   ]
  },
  {
   "cell_type": "code",
   "execution_count": 23,
   "id": "6b0d2f54-8518-4490-9270-427986507a6b",
   "metadata": {},
   "outputs": [
    {
     "data": {
      "text/plain": [
       "{'game_id': 1,\n",
       " 'game_name': 'Stalna igra',\n",
       " 'is_contest': False,\n",
       " 'start_time': '2024-04-05T00:09:47.217932',\n",
       " 'total_ticks': 2300,\n",
       " 'tick_time': 3000,\n",
       " 'current_tick': 0,\n",
       " 'is_finished': False,\n",
       " 'current_time': '2024-04-05T00:08:56.800435',\n",
       " 'next_tick_time': '2024-04-05T00:09:47.217932'}"
      ]
     },
     "execution_count": 23,
     "metadata": {},
     "output_type": "execute_result"
    }
   ],
   "source": [
    "api.get_game().json()"
   ]
  },
  {
   "cell_type": "code",
   "execution_count": null,
   "id": "c6a44c69-844d-40cc-8bce-bad147d802d4",
   "metadata": {},
   "outputs": [],
   "source": [
    "api.get_orders().json()"
   ]
  },
  {
   "cell_type": "code",
   "execution_count": null,
   "id": "fd6ce0b2-34d1-4714-9f0b-c98f0838ef6c",
   "metadata": {},
   "outputs": [],
   "source": [
    "api.get_plants().json()"
   ]
  },
  {
   "cell_type": "code",
   "execution_count": null,
   "id": "6746a7ee-f518-40ee-b90a-f34e3fa604dc",
   "metadata": {},
   "outputs": [],
   "source": [
    "api.buy_plant(PowerPlant.COAL).json()"
   ]
  },
  {
   "cell_type": "code",
   "execution_count": null,
   "id": "838d39e0-3875-4cd3-b620-c4df377e5308",
   "metadata": {},
   "outputs": [],
   "source": [
    "api.create_order(resource=algotrade_api.Resource.oil,\n",
    "                          price=10, side=algotrade_api.OrderSide.BUY,\n",
    "                          size=1, expiration_length=1).json()"
   ]
  },
  {
   "cell_type": "code",
   "execution_count": null,
   "id": "d243dd91-f401-44de-a3e0-82e4a87c4846",
   "metadata": {},
   "outputs": [],
   "source": [
    "api.get_game().json(), algotrade_api.get_orders().json()"
   ]
  },
  {
   "cell_type": "code",
   "execution_count": null,
   "id": "b8bce54b-ce40-467b-997f-8f656cf3aca0",
   "metadata": {},
   "outputs": [],
   "source": [
    "api.get_player_orders().json()"
   ]
  },
  {
   "cell_type": "code",
   "execution_count": null,
   "id": "fc160aa8-26fe-4d71-b836-f946752c68cc",
   "metadata": {},
   "outputs": [],
   "source": [
    "api.get_trades(start_tick=-100, end_tick=-1).json()"
   ]
  },
  {
   "cell_type": "code",
   "execution_count": null,
   "id": "e5773e31-1620-4d2f-95b3-85e62926e05e",
   "metadata": {},
   "outputs": [],
   "source": [
    "while True:\n",
    "    print(api.get_player().json())\n",
    "    sleep(1)"
   ]
  },
  {
   "cell_type": "code",
   "execution_count": null,
   "id": "41d5c9ad-be0c-48f4-94b6-57efd515ee21",
   "metadata": {},
   "outputs": [],
   "source": [
    "api.create_order(resource=\"COAL\", price=10, size=10, expiration_tick=10000, side=\"BUY\").json()"
   ]
  }
 ],
 "metadata": {
  "kernelspec": {
   "display_name": "Python 3 (ipykernel)",
   "language": "python",
   "name": "python3"
  },
  "language_info": {
   "codemirror_mode": {
    "name": "ipython",
    "version": 3
   },
   "file_extension": ".py",
   "mimetype": "text/x-python",
   "name": "python",
   "nbconvert_exporter": "python",
   "pygments_lexer": "ipython3",
   "version": "3.12.1"
  }
 },
 "nbformat": 4,
 "nbformat_minor": 5
}

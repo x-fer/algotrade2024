{
 "cells": [
  {
   "cell_type": "code",
   "execution_count": 1,
   "id": "25d31bcd-1861-4583-ac64-45f421e99440",
   "metadata": {},
   "outputs": [],
   "source": [
    "import requests\n",
    "from enum import Enum\n",
    "import algotrade_api\n",
    "from algotrade_api import PowerPlant\n",
    "from time import sleep"
   ]
  },
  {
   "cell_type": "code",
   "execution_count": 2,
   "id": "b5b58cce-d433-4f3d-8f84-42aae47ee77e",
   "metadata": {},
   "outputs": [],
   "source": [
    "algotrade_api.set_team_secret(\"gogi\")"
   ]
  },
  {
   "cell_type": "code",
   "execution_count": 3,
   "id": "d7081395-6abc-460c-ad08-9b081e2ecfa1",
   "metadata": {},
   "outputs": [],
   "source": [
    "algotrade_api.set_url(\"localhost:3000\")"
   ]
  },
  {
   "cell_type": "code",
   "execution_count": 4,
   "id": "0d4836fb-959d-45d5-9f99-29e6134dfe94",
   "metadata": {},
   "outputs": [
    {
     "data": {
      "text/plain": [
       "{'player_id': 28, 'player_name': 'Goranov_tim_3'}"
      ]
     },
     "execution_count": 4,
     "metadata": {},
     "output_type": "execute_result"
    }
   ],
   "source": [
    "algotrade_api.set_game_id(1)\n",
    "algotrade_api.create_player().json()"
   ]
  },
  {
   "cell_type": "code",
   "execution_count": 5,
   "id": "568ba6c9-24a2-4732-bfc0-4da63d4b5479",
   "metadata": {},
   "outputs": [],
   "source": [
    "algotrade_api.set_player_id(1)"
   ]
  },
  {
   "cell_type": "code",
   "execution_count": 6,
   "id": "c38850b8-d12f-4d22-adea-c4ed86aef7d3",
   "metadata": {},
   "outputs": [
    {
     "data": {
      "text/plain": [
       "{'player_id': 1,\n",
       " 'player_name': 'Goran',\n",
       " 'game_id': 1,\n",
       " 'energy_price': 1000000000,\n",
       " 'money': 6966,\n",
       " 'coal': 1047,\n",
       " 'uranium': 0,\n",
       " 'biomass': 0,\n",
       " 'gas': 0,\n",
       " 'oil': 0,\n",
       " 'coal_plants_owned': 1,\n",
       " 'uranium_plants_owned': 0,\n",
       " 'biomass_plants_owned': 0,\n",
       " 'gas_plants_owned': 0,\n",
       " 'oil_plants_owned': 0,\n",
       " 'geothermal_plants_owned': 0,\n",
       " 'wind_plants_owned': 0,\n",
       " 'solar_plants_owned': 0,\n",
       " 'hydro_plants_owned': 0,\n",
       " 'coal_plants_powered': 0,\n",
       " 'uranium_plants_powered': 0,\n",
       " 'biomass_plants_powered': 0,\n",
       " 'gas_plants_powered': 0,\n",
       " 'oil_plants_powered': 0,\n",
       " 'geothermal_plants_powered': 0,\n",
       " 'wind_plants_powered': 0,\n",
       " 'solar_plants_powered': 0,\n",
       " 'hydro_plants_powered': 0}"
      ]
     },
     "execution_count": 6,
     "metadata": {},
     "output_type": "execute_result"
    }
   ],
   "source": [
    "algotrade_api.get_player().json()"
   ]
  },
  {
   "cell_type": "code",
   "execution_count": 7,
   "id": "6b0d2f54-8518-4490-9270-427986507a6b",
   "metadata": {},
   "outputs": [
    {
     "data": {
      "text/plain": [
       "{'game_id': 1,\n",
       " 'game_name': 'Stalna igra',\n",
       " 'is_contest': False,\n",
       " 'start_time': '2024-03-11T17:33:10.393797',\n",
       " 'total_ticks': 2300,\n",
       " 'tick_time': 5000,\n",
       " 'current_tick': 439,\n",
       " 'is_finished': False,\n",
       " 'current_time': '2024-03-11T18:09:43.090212',\n",
       " 'next_tick_time': '2024-03-11T18:09:45.393797'}"
      ]
     },
     "execution_count": 7,
     "metadata": {},
     "output_type": "execute_result"
    }
   ],
   "source": [
    "algotrade_api.get_game().json()"
   ]
  },
  {
   "cell_type": "code",
   "execution_count": 8,
   "id": "c6a44c69-844d-40cc-8bce-bad147d802d4",
   "metadata": {},
   "outputs": [],
   "source": [
    "# algotrade_api.get_orders(restriction=\"bot\").json()"
   ]
  },
  {
   "cell_type": "code",
   "execution_count": 9,
   "id": "fd6ce0b2-34d1-4714-9f0b-c98f0838ef6c",
   "metadata": {},
   "outputs": [
    {
     "data": {
      "text/plain": [
       "{'COAL': {'plants_powered': 0,\n",
       "  'plants_owned': 1,\n",
       "  'next_price': 453750,\n",
       "  'sell_price': 317625},\n",
       " 'URANIUM': {'plants_powered': 0,\n",
       "  'plants_owned': 0,\n",
       "  'next_price': 9750000,\n",
       "  'sell_price': 6825000},\n",
       " 'BIOMASS': {'plants_powered': 0,\n",
       "  'plants_owned': 0,\n",
       "  'next_price': 968000,\n",
       "  'sell_price': 677600},\n",
       " 'GAS': {'plants_powered': 0,\n",
       "  'plants_owned': 0,\n",
       "  'next_price': 970400,\n",
       "  'sell_price': 679280},\n",
       " 'OIL': {'plants_powered': 0,\n",
       "  'plants_owned': 0,\n",
       "  'next_price': 968000,\n",
       "  'sell_price': 677600},\n",
       " 'GEOTHERMAL': {'plants_powered': 0,\n",
       "  'plants_owned': 0,\n",
       "  'next_price': 450000,\n",
       "  'sell_price': 315000},\n",
       " 'WIND': {'plants_powered': 0,\n",
       "  'plants_owned': 0,\n",
       "  'next_price': 150000,\n",
       "  'sell_price': 105000},\n",
       " 'SOLAR': {'plants_powered': 0,\n",
       "  'plants_owned': 0,\n",
       "  'next_price': 150000,\n",
       "  'sell_price': 105000},\n",
       " 'HYDRO': {'plants_powered': 0,\n",
       "  'plants_owned': 0,\n",
       "  'next_price': 300000,\n",
       "  'sell_price': 210000}}"
      ]
     },
     "execution_count": 9,
     "metadata": {},
     "output_type": "execute_result"
    }
   ],
   "source": [
    "algotrade_api.get_plants().json()"
   ]
  },
  {
   "cell_type": "code",
   "execution_count": 10,
   "id": "6746a7ee-f518-40ee-b90a-f34e3fa604dc",
   "metadata": {},
   "outputs": [
    {
     "data": {
      "text/plain": [
       "{'detail': 'Not enough money'}"
      ]
     },
     "execution_count": 10,
     "metadata": {},
     "output_type": "execute_result"
    }
   ],
   "source": [
    "algotrade_api.buy_plant(PowerPlant.COAL).json()"
   ]
  },
  {
   "cell_type": "code",
   "execution_count": 30,
   "id": "838d39e0-3875-4cd3-b620-c4df377e5308",
   "metadata": {},
   "outputs": [
    {
     "data": {
      "text/plain": [
       "{'detail': 'Expiration tick (-541) must be in the future, current_tick (459)'}"
      ]
     },
     "execution_count": 30,
     "metadata": {},
     "output_type": "execute_result"
    }
   ],
   "source": [
    "algotrade_api.create_order(resource=algotrade_api.Resource.oil,\n",
    "                          price=10, side=algotrade_api.OrderSide.BUY,\n",
    "                          size=1, expiration_length=).json()"
   ]
  },
  {
   "cell_type": "code",
   "execution_count": 24,
   "id": "b8bce54b-ce40-467b-997f-8f656cf3aca0",
   "metadata": {},
   "outputs": [
    {
     "data": {
      "text/plain": [
       "{'OIL': [{'order_id': 1208,\n",
       "   'player_id': 1,\n",
       "   'price': 10,\n",
       "   'size': 1,\n",
       "   'tick': 443,\n",
       "   'timestamp': '2024-03-11T18:10:01.411490',\n",
       "   'order_side': 'BUY',\n",
       "   'order_status': 'ACTIVE',\n",
       "   'filled_size': 0,\n",
       "   'expiration_tick': 453}],\n",
       " 'COAL': [{'order_id': 608,\n",
       "   'player_id': 1,\n",
       "   'price': 1000,\n",
       "   'size': 1,\n",
       "   'tick': 167,\n",
       "   'timestamp': '2024-03-11T17:47:01.345378',\n",
       "   'order_side': 'SELL',\n",
       "   'order_status': 'ACTIVE',\n",
       "   'filled_size': 0,\n",
       "   'expiration_tick': 10000},\n",
       "  {'order_id': 619,\n",
       "   'player_id': 1,\n",
       "   'price': 1000,\n",
       "   'size': 1000,\n",
       "   'tick': 170,\n",
       "   'timestamp': '2024-03-11T17:47:18.745594',\n",
       "   'order_side': 'SELL',\n",
       "   'order_status': 'ACTIVE',\n",
       "   'filled_size': 0,\n",
       "   'expiration_tick': 10000},\n",
       "  {'order_id': 620,\n",
       "   'player_id': 1,\n",
       "   'price': 1000,\n",
       "   'size': 100000,\n",
       "   'tick': 172,\n",
       "   'timestamp': '2024-03-11T17:47:26.953311',\n",
       "   'order_side': 'SELL',\n",
       "   'order_status': 'ACTIVE',\n",
       "   'filled_size': 0,\n",
       "   'expiration_tick': 10000},\n",
       "  {'order_id': 891,\n",
       "   'player_id': 1,\n",
       "   'price': 1000,\n",
       "   'size': 100,\n",
       "   'tick': 297,\n",
       "   'timestamp': '2024-03-11T17:57:55.110165',\n",
       "   'order_side': 'SELL',\n",
       "   'order_status': 'ACTIVE',\n",
       "   'filled_size': 0,\n",
       "   'expiration_tick': 10000},\n",
       "  {'order_id': 972,\n",
       "   'player_id': 1,\n",
       "   'price': 10,\n",
       "   'size': 1,\n",
       "   'tick': 336,\n",
       "   'timestamp': '2024-03-11T18:01:07.243242',\n",
       "   'order_side': 'BUY',\n",
       "   'order_status': 'ACTIVE',\n",
       "   'filled_size': 0,\n",
       "   'expiration_tick': 10000},\n",
       "  {'order_id': 973,\n",
       "   'player_id': 1,\n",
       "   'price': 10,\n",
       "   'size': 1,\n",
       "   'tick': 336,\n",
       "   'timestamp': '2024-03-11T18:01:09.610345',\n",
       "   'order_side': 'BUY',\n",
       "   'order_status': 'ACTIVE',\n",
       "   'filled_size': 0,\n",
       "   'expiration_tick': 10000},\n",
       "  {'order_id': 974,\n",
       "   'player_id': 1,\n",
       "   'price': 10,\n",
       "   'size': 1,\n",
       "   'tick': 337,\n",
       "   'timestamp': '2024-03-11T18:01:10.986246',\n",
       "   'order_side': 'BUY',\n",
       "   'order_status': 'ACTIVE',\n",
       "   'filled_size': 0,\n",
       "   'expiration_tick': 10000},\n",
       "  {'order_id': 975,\n",
       "   'player_id': 1,\n",
       "   'price': 10,\n",
       "   'size': 1,\n",
       "   'tick': 337,\n",
       "   'timestamp': '2024-03-11T18:01:15.206911',\n",
       "   'order_side': 'BUY',\n",
       "   'order_status': 'ACTIVE',\n",
       "   'filled_size': 0,\n",
       "   'expiration_tick': 10000},\n",
       "  {'order_id': 1156,\n",
       "   'player_id': 1,\n",
       "   'price': 10,\n",
       "   'size': 1,\n",
       "   'tick': 420,\n",
       "   'timestamp': '2024-03-11T18:08:08.846102',\n",
       "   'order_side': 'BUY',\n",
       "   'order_status': 'ACTIVE',\n",
       "   'filled_size': 0,\n",
       "   'expiration_tick': 10000},\n",
       "  {'order_id': 1157,\n",
       "   'player_id': 1,\n",
       "   'price': 10,\n",
       "   'size': 1,\n",
       "   'tick': 420,\n",
       "   'timestamp': '2024-03-11T18:08:09.625773',\n",
       "   'order_side': 'BUY',\n",
       "   'order_status': 'ACTIVE',\n",
       "   'filled_size': 0,\n",
       "   'expiration_tick': 10000}]}"
      ]
     },
     "execution_count": 24,
     "metadata": {},
     "output_type": "execute_result"
    }
   ],
   "source": [
    "algotrade_api.get_player_orders().json()"
   ]
  },
  {
   "cell_type": "code",
   "execution_count": 269,
   "id": "fc160aa8-26fe-4d71-b836-f946752c68cc",
   "metadata": {},
   "outputs": [
    {
     "data": {
      "text/plain": [
       "{'BUY': [], 'SELL': []}"
      ]
     },
     "execution_count": 269,
     "metadata": {},
     "output_type": "execute_result"
    }
   ],
   "source": [
    "algotrade_api.get_trades(start_tick=-100, end_tick=-1).json()"
   ]
  },
  {
   "cell_type": "code",
   "execution_count": 60,
   "id": "e5773e31-1620-4d2f-95b3-85e62926e05e",
   "metadata": {},
   "outputs": [
    {
     "name": "stdout",
     "output_type": "stream",
     "text": [
      "{'detail': 'Game is already finished'}\n",
      "{'detail': 'Game is already finished'}\n",
      "{'detail': 'Game is already finished'}\n"
     ]
    },
    {
     "ename": "KeyboardInterrupt",
     "evalue": "",
     "output_type": "error",
     "traceback": [
      "\u001b[0;31m---------------------------------------------------------------------------\u001b[0m",
      "\u001b[0;31mKeyboardInterrupt\u001b[0m                         Traceback (most recent call last)",
      "Cell \u001b[0;32mIn[60], line 3\u001b[0m\n\u001b[1;32m      1\u001b[0m \u001b[38;5;28;01mwhile\u001b[39;00m \u001b[38;5;28;01mTrue\u001b[39;00m:\n\u001b[1;32m      2\u001b[0m     \u001b[38;5;28mprint\u001b[39m(algotrade_api\u001b[38;5;241m.\u001b[39mget_player()\u001b[38;5;241m.\u001b[39mjson())\n\u001b[0;32m----> 3\u001b[0m     \u001b[43msleep\u001b[49m\u001b[43m(\u001b[49m\u001b[38;5;241;43m1\u001b[39;49m\u001b[43m)\u001b[49m\n",
      "\u001b[0;31mKeyboardInterrupt\u001b[0m: "
     ]
    }
   ],
   "source": [
    "while True:\n",
    "    print(algotrade_api.get_player().json())\n",
    "    sleep(1)"
   ]
  },
  {
   "cell_type": "code",
   "execution_count": 23,
   "id": "41d5c9ad-be0c-48f4-94b6-57efd515ee21",
   "metadata": {},
   "outputs": [
    {
     "data": {
      "text/plain": [
       "{'detail': 'Maximum 10 orders can be active at a time'}"
      ]
     },
     "execution_count": 23,
     "metadata": {},
     "output_type": "execute_result"
    }
   ],
   "source": [
    "algotrade_api.create_order(resource=\"COAL\", price=10, size=10, expiration_tick=10000, side=\"BUY\").json()"
   ]
  }
 ],
 "metadata": {
  "kernelspec": {
   "display_name": "Python 3 (ipykernel)",
   "language": "python",
   "name": "python3"
  },
  "language_info": {
   "codemirror_mode": {
    "name": "ipython",
    "version": 3
   },
   "file_extension": ".py",
   "mimetype": "text/x-python",
   "name": "python",
   "nbconvert_exporter": "python",
   "pygments_lexer": "ipython3",
   "version": "3.10.12"
  }
 },
 "nbformat": 4,
 "nbformat_minor": 5
}

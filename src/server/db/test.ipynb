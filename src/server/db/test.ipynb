{
 "cells": [
  {
   "cell_type": "code",
   "execution_count": 1,
   "id": "9eed79f0-f37c-468b-adcc-1967ff2582a1",
   "metadata": {},
   "outputs": [],
   "source": [
    "# from fastapi import FastAPI, UploadFile, File, Form\n",
    "# from fastapi.middleware.cors import CORSMiddleware\n",
    "from databases import Database\n",
    "\n",
    "database = Database(\"sqlite:///test.db\")\n",
    "\n",
    "# @app.on_event(\"startup\")\n",
    "# async def database_connect():\n",
    "#     await database.connect()\n",
    "\n",
    "\n",
    "# @app.on_event(\"shutdown\")\n",
    "# async def database_disconnect():\n",
    "#     await database.disconnect()\n",
    "\n",
    "\n",
    "# @app.post(\"/test\")\n",
    "# async def fetch_data(id: int):\n",
    "#     query = \"SELECT * FROM tablename WHERE ID={}\".format(str(id))\n",
    "#     results = await database.fetch_all(query=query)\n",
    "\n",
    "#     return  results"
   ]
  },
  {
   "cell_type": "code",
   "execution_count": 2,
   "id": "63af6e52-c770-4a1d-8d83-aa048645c4b5",
   "metadata": {},
   "outputs": [],
   "source": [
    "import migration\n",
    "await migration.run_migrations(database)"
   ]
  },
  {
   "cell_type": "code",
   "execution_count": 3,
   "id": "3610ad28-efad-42ac-a0f0-dda933bf6473",
   "metadata": {},
   "outputs": [],
   "source": [
    "from table import Table\n",
    "from game import Game\n",
    "from team import Team"
   ]
  },
  {
   "cell_type": "code",
   "execution_count": 4,
   "id": "8affb39f-fdaa-4f30-8bf6-cb10df220cb5",
   "metadata": {},
   "outputs": [],
   "source": [
    "Table.set_db(database)\n",
    "assert Game.database == Table.database"
   ]
  },
  {
   "cell_type": "code",
   "execution_count": 5,
   "id": "120fd7e3-71aa-4cf9-ae47-6c54c2c821ef",
   "metadata": {},
   "outputs": [
    {
     "data": {
      "text/plain": [
       "(1 goranov abc)"
      ]
     },
     "execution_count": 5,
     "metadata": {},
     "output_type": "execute_result"
    }
   ],
   "source": [
    "Team.set_db(database)\n",
    "try: await Team.create_team('goranov', 'abc')\n",
    "except Exception: pass\n",
    "await Team.get_teams()\n",
    "await Team.get_team(team_secret='abc')"
   ]
  },
  {
   "cell_type": "code",
   "execution_count": 6,
   "id": "2aa7d639-59c5-4f17-8f91-ed46ded7a81e",
   "metadata": {},
   "outputs": [
    {
     "data": {
      "text/plain": [
       "8"
      ]
     },
     "metadata": {},
     "output_type": "display_data"
    },
    {
     "data": {
      "text/plain": [
       "[Game(1 goranov abc 1 1),\n",
       " Game(2 goranov abc 1 1),\n",
       " Game(3 goranov abc 1 1),\n",
       " Game(4 goranov abc 1 1),\n",
       " Game(5 goranov abc 1 1),\n",
       " Game(6 goranov abc 1 1),\n",
       " Game(7 goranov abc 1 1),\n",
       " Game(8 goranov abc 1 1)]"
      ]
     },
     "metadata": {},
     "output_type": "display_data"
    },
    {
     "data": {
      "text/plain": [
       "Game(1 goranov abc 1 1)"
      ]
     },
     "execution_count": 6,
     "metadata": {},
     "output_type": "execute_result"
    }
   ],
   "source": [
    "display(await Game.create('goranov', 'abc', 0, '1', 1))\n",
    "display(await Game.list())\n",
    "await Game.get(game_name='goranov')"
   ]
  },
  {
   "cell_type": "code",
   "execution_count": null,
   "id": "fd0423a2-6c75-4dac-a691-914d0736179e",
   "metadata": {},
   "outputs": [],
   "source": []
  }
 ],
 "metadata": {
  "kernelspec": {
   "display_name": "Python 3 (ipykernel)",
   "language": "python",
   "name": "python3"
  },
  "language_info": {
   "codemirror_mode": {
    "name": "ipython",
    "version": 3
   },
   "file_extension": ".py",
   "mimetype": "text/x-python",
   "name": "python",
   "nbconvert_exporter": "python",
   "pygments_lexer": "ipython3",
   "version": "3.12.1"
  }
 },
 "nbformat": 4,
 "nbformat_minor": 5
}

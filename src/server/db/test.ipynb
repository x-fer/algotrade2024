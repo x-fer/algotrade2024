{
 "cells": [
  {
   "cell_type": "code",
   "execution_count": 1,
   "id": "9eed79f0-f37c-468b-adcc-1967ff2582a1",
   "metadata": {},
   "outputs": [],
   "source": [
    "from databases import Database\n",
    "from dataclasses import dataclass, field, fields\n",
    "from table import Table\n",
    "import string\n",
    "import random\n",
    "import migration\n",
    "from table import Table\n",
    "from game import Game\n",
    "from team import Team"
   ]
  },
  {
   "cell_type": "code",
   "execution_count": 2,
   "id": "02f7849e-a256-4ad1-a3d2-97923159e190",
   "metadata": {},
   "outputs": [],
   "source": [
    "database = Database(\"sqlite:///test.db\")"
   ]
  },
  {
   "cell_type": "code",
   "execution_count": 3,
   "id": "7a963dd1-5722-43b4-b07d-5c09d7878721",
   "metadata": {},
   "outputs": [],
   "source": [
    "def id_generator(size=6, chars=string.ascii_uppercase + string.digits):\n",
    "    return ''.join(random.choice(chars) for _ in range(size))"
   ]
  },
  {
   "cell_type": "code",
   "execution_count": 4,
   "id": "63af6e52-c770-4a1d-8d83-aa048645c4b5",
   "metadata": {},
   "outputs": [],
   "source": [
    "await migration.run_migrations(database)"
   ]
  },
  {
   "cell_type": "code",
   "execution_count": 5,
   "id": "8affb39f-fdaa-4f30-8bf6-cb10df220cb5",
   "metadata": {},
   "outputs": [],
   "source": [
    "Table.set_db(database)\n",
    "assert Game.database == Table.database"
   ]
  },
  {
   "cell_type": "code",
   "execution_count": 6,
   "id": "120fd7e3-71aa-4cf9-ae47-6c54c2c821ef",
   "metadata": {},
   "outputs": [
    {
     "data": {
      "text/plain": [
       "9"
      ]
     },
     "metadata": {},
     "output_type": "display_data"
    },
    {
     "data": {
      "text/plain": [
       "[Team(team_id=1, team_name='goranov', team_secret='abc'),\n",
       " Team(team_id=2, team_name='goranov', team_secret='abcd'),\n",
       " Team(team_id=3, team_name='goranov', team_secret='BQWKJU')]"
      ]
     },
     "metadata": {},
     "output_type": "display_data"
    },
    {
     "data": {
      "text/plain": [
       "Team(team_id=9, team_name='goranov', team_secret='KQGT6P')"
      ]
     },
     "metadata": {},
     "output_type": "display_data"
    }
   ],
   "source": [
    "id = id_generator()\n",
    "display(await Team.create('goranov', id))\n",
    "display((await Team.list())[:3])\n",
    "display(await Team.get(team_secret=id))"
   ]
  },
  {
   "cell_type": "code",
   "execution_count": 7,
   "id": "2aa7d639-59c5-4f17-8f91-ed46ded7a81e",
   "metadata": {},
   "outputs": [
    {
     "data": {
      "text/plain": [
       "18"
      ]
     },
     "metadata": {},
     "output_type": "display_data"
    },
    {
     "data": {
      "text/plain": [
       "[Game(1 goranov abc 1 1), Game(2 goranov abc 1 1), Game(3 goranov abc 1 1)]"
      ]
     },
     "metadata": {},
     "output_type": "display_data"
    },
    {
     "data": {
      "text/plain": [
       "Game(1 goranov abc 1 1)"
      ]
     },
     "metadata": {},
     "output_type": "display_data"
    }
   ],
   "source": [
    "display(await Game.create('goranov', 'abc', 0, '1', 1))\n",
    "display((await Game.list())[:3])\n",
    "display(await Game.get(game_name='goranov'))"
   ]
  },
  {
   "cell_type": "code",
   "execution_count": null,
   "id": "71320ca6-f45d-45ca-a1c0-7056750b3f7e",
   "metadata": {},
   "outputs": [],
   "source": []
  }
 ],
 "metadata": {
  "kernelspec": {
   "display_name": "Python 3 (ipykernel)",
   "language": "python",
   "name": "python3"
  },
  "language_info": {
   "codemirror_mode": {
    "name": "ipython",
    "version": 3
   },
   "file_extension": ".py",
   "mimetype": "text/x-python",
   "name": "python",
   "nbconvert_exporter": "python",
   "pygments_lexer": "ipython3",
   "version": "3.12.1"
  }
 },
 "nbformat": 4,
 "nbformat_minor": 5
}

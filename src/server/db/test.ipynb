{
 "cells": [
  {
   "cell_type": "code",
   "execution_count": 7,
   "id": "9eed79f0-f37c-468b-adcc-1967ff2582a1",
   "metadata": {},
   "outputs": [],
   "source": [
    "# from fastapi import FastAPI, UploadFile, File, Form\n",
    "# from fastapi.middleware.cors import CORSMiddleware\n",
    "from databases import Database\n",
    "\n",
    "database = Database(\"sqlite:///test.db\")\n",
    "\n",
    "# @app.on_event(\"startup\")\n",
    "# async def database_connect():\n",
    "#     await database.connect()\n",
    "\n",
    "\n",
    "# @app.on_event(\"shutdown\")\n",
    "# async def database_disconnect():\n",
    "#     await database.disconnect()\n",
    "\n",
    "\n",
    "# @app.post(\"/test\")\n",
    "# async def fetch_data(id: int):\n",
    "#     query = \"SELECT * FROM tablename WHERE ID={}\".format(str(id))\n",
    "#     results = await database.fetch_all(query=query)\n",
    "\n",
    "#     return  results"
   ]
  },
  {
   "cell_type": "code",
   "execution_count": 8,
   "id": "63af6e52-c770-4a1d-8d83-aa048645c4b5",
   "metadata": {},
   "outputs": [],
   "source": [
    "import migration"
   ]
  },
  {
   "cell_type": "code",
   "execution_count": 9,
   "id": "39f2705e-d63f-45f4-864a-43d610937c92",
   "metadata": {},
   "outputs": [],
   "source": [
    "await migration.run_migrations(database)"
   ]
  },
  {
   "cell_type": "code",
   "execution_count": 10,
   "id": "3610ad28-efad-42ac-a0f0-dda933bf6473",
   "metadata": {},
   "outputs": [],
   "source": [
    "from team import Team"
   ]
  },
  {
   "cell_type": "code",
   "execution_count": 11,
   "id": "358ac49d-32ac-4849-9989-8b1d14670ac2",
   "metadata": {},
   "outputs": [],
   "source": [
    "Team.set_db(database)"
   ]
  },
  {
   "cell_type": "code",
   "execution_count": 12,
   "id": "120fd7e3-71aa-4cf9-ae47-6c54c2c821ef",
   "metadata": {},
   "outputs": [
    {
     "data": {
      "text/plain": [
       "(1 goranov abc)"
      ]
     },
     "execution_count": 12,
     "metadata": {},
     "output_type": "execute_result"
    }
   ],
   "source": [
    "try: await Team.create_team('goranov', 'abc')\n",
    "except Exception: pass\n",
    "await Team.get_teams()\n",
    "await Team.get_team(team_secret='abc')"
   ]
  },
  {
   "cell_type": "code",
   "execution_count": null,
   "id": "2275908b-46bb-409e-8540-0ef69a0b0b91",
   "metadata": {},
   "outputs": [],
   "source": []
  }
 ],
 "metadata": {
  "kernelspec": {
   "display_name": "Python 3 (ipykernel)",
   "language": "python",
   "name": "python3"
  },
  "language_info": {
   "codemirror_mode": {
    "name": "ipython",
    "version": 3
   },
   "file_extension": ".py",
   "mimetype": "text/x-python",
   "name": "python",
   "nbconvert_exporter": "python",
   "pygments_lexer": "ipython3",
   "version": "3.12.1"
  }
 },
 "nbformat": 4,
 "nbformat_minor": 5
}

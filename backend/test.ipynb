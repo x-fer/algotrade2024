{
 "cells": [
  {
   "cell_type": "code",
   "execution_count": 69,
   "id": "25d31bcd-1861-4583-ac64-45f421e99440",
   "metadata": {},
   "outputs": [],
   "source": [
    "import requests"
   ]
  },
  {
   "cell_type": "code",
   "execution_count": 70,
   "id": "b5b58cce-d433-4f3d-8f84-42aae47ee77e",
   "metadata": {},
   "outputs": [],
   "source": [
    "team_secret = \"gogi\""
   ]
  },
  {
   "cell_type": "code",
   "execution_count": 71,
   "id": "d7081395-6abc-460c-ad08-9b081e2ecfa1",
   "metadata": {},
   "outputs": [],
   "source": [
    "addr = \"https://4903-93-141-154-92.ngrok-free.app\""
   ]
  },
  {
   "cell_type": "code",
   "execution_count": 72,
   "id": "9af62673-65be-4e1c-b75e-629e9c3973e5",
   "metadata": {},
   "outputs": [],
   "source": [
    "def game_list():\n",
    "    url = f\"{addr}/game/list?team_secret={team_secret}\"\n",
    "    print(url)\n",
    "    response = requests.get(url)\n",
    "    return response.json()"
   ]
  },
  {
   "cell_type": "code",
   "execution_count": 73,
   "id": "2d4a7e04-4e17-43d8-97d5-829efe28718b",
   "metadata": {},
   "outputs": [],
   "source": [
    "def list_player():\n",
    "    url = f\"{addr}/game/{game_id}/player/list\"\n",
    "    return requests.get(url, params={\"team_secret\": team_secret}).json()"
   ]
  },
  {
   "cell_type": "code",
   "execution_count": 74,
   "id": "6d683616-e891-493e-b7ea-9656bd1aad62",
   "metadata": {},
   "outputs": [],
   "source": [
    "def create_player():\n",
    "    url = f\"{addr}/game/{game_id}/player/create\"\n",
    "    return requests.post(url, params={\"team_secret\": team_secret}).json()"
   ]
  },
  {
   "cell_type": "code",
   "execution_count": 75,
   "id": "e4df7b4e-210f-43e9-998a-252be2cd4629",
   "metadata": {},
   "outputs": [],
   "source": [
    "def get_player():\n",
    "    url = f\"{addr}/game/{game_id}/player/{player_id}\"\n",
    "    return requests.get(url, params={\"team_secret\": team_secret}).json()"
   ]
  },
  {
   "cell_type": "code",
   "execution_count": 76,
   "id": "84721896-603e-4e57-bebf-92f767410b98",
   "metadata": {},
   "outputs": [],
   "source": [
    "def get_prices(start_tick=None, end_tick=None, resource=None):\n",
    "    url = f\"{addr}/game/{game_id}/market/prices\"\n",
    "    params = {\"team_secret\": team_secret}\n",
    "    if start_tick: params[\"start_tick\"] = start_tick\n",
    "    if end_tick: params[\"end_tick\"] = end_tick\n",
    "    if resource: params[\"resource\"] = resource\n",
    "    return requests.get(url, params=params).json()"
   ]
  },
  {
   "cell_type": "code",
   "execution_count": 88,
   "id": "f0502559-2a71-4b08-9960-5800cfe3b4f8",
   "metadata": {},
   "outputs": [],
   "source": [
    "def get_dataset(start_tick=None, end_tick=None):\n",
    "    url = f\"{addr}/game/{game_id}/dataset\"\n",
    "    params = {\"team_secret\": team_secret}\n",
    "    if start_tick: params[\"start_tick\"] = start_tick\n",
    "    if end_tick: params[\"end_tick\"] = end_tick\n",
    "    return requests.get(url, params=params).json()"
   ]
  },
  {
   "cell_type": "code",
   "execution_count": 79,
   "id": "0d4836fb-959d-45d5-9f99-29e6134dfe94",
   "metadata": {},
   "outputs": [
    {
     "data": {
      "text/plain": [
       "{'player_id': 11, 'player_name': 'Goranov_tim_1'}"
      ]
     },
     "execution_count": 79,
     "metadata": {},
     "output_type": "execute_result"
    }
   ],
   "source": [
    "game_id = 1\n",
    "create_player()"
   ]
  },
  {
   "cell_type": "code",
   "execution_count": 81,
   "id": "568ba6c9-24a2-4732-bfc0-4da63d4b5479",
   "metadata": {},
   "outputs": [],
   "source": [
    "player_id = 11"
   ]
  },
  {
   "cell_type": "code",
   "execution_count": 82,
   "id": "c38850b8-d12f-4d22-adea-c4ed86aef7d3",
   "metadata": {},
   "outputs": [
    {
     "data": {
      "text/plain": [
       "[{'player_id': 11, 'player_name': 'Goranov_tim_1'},\n",
       " {'player_id': 1, 'player_name': 'Goran'}]"
      ]
     },
     "execution_count": 82,
     "metadata": {},
     "output_type": "execute_result"
    }
   ],
   "source": [
    "list_player()"
   ]
  },
  {
   "cell_type": "code",
   "execution_count": 112,
   "id": "79fb7bd3-a2a2-4e49-b25e-8cd9f9575650",
   "metadata": {},
   "outputs": [
    {
     "data": {
      "text/plain": [
       "{'player_id': 11,\n",
       " 'player_name': 'Goranov_tim_1',\n",
       " 'game_id': 1,\n",
       " 'energy_price': 1000000000,\n",
       " 'money': 15000,\n",
       " 'coal': 0,\n",
       " 'uranium': 0,\n",
       " 'biomass': 0,\n",
       " 'gas': 0,\n",
       " 'oil': 0}"
      ]
     },
     "execution_count": 112,
     "metadata": {},
     "output_type": "execute_result"
    }
   ],
   "source": [
    "get_player()"
   ]
  },
  {
   "cell_type": "code",
   "execution_count": 104,
   "id": "1071a2e9-18d2-47c7-a87a-fcbd46131e00",
   "metadata": {},
   "outputs": [
    {
     "data": {
      "text/plain": [
       "{'detail': \"'NoneType' object is not callable\"}"
      ]
     },
     "execution_count": 104,
     "metadata": {},
     "output_type": "execute_result"
    }
   ],
   "source": [
    "# get_prices(1, 5, resource=\"COAL\")\n",
    "get_dataset(1,5)"
   ]
  },
  {
   "cell_type": "markdown",
   "id": "a28cb91b-f4e5-44a5-a9ab-e9c86fc2e9cc",
   "metadata": {},
   "source": [
    "#\n",
    "\n"
   ]
  },
  {
   "cell_type": "code",
   "execution_count": null,
   "id": "a31b28d2-9e04-4cac-84ee-4d91dd9c1df9",
   "metadata": {},
   "outputs": [],
   "source": []
  }
 ],
 "metadata": {
  "kernelspec": {
   "display_name": "Python 3 (ipykernel)",
   "language": "python",
   "name": "python3"
  },
  "language_info": {
   "codemirror_mode": {
    "name": "ipython",
    "version": 3
   },
   "file_extension": ".py",
   "mimetype": "text/x-python",
   "name": "python",
   "nbconvert_exporter": "python",
   "pygments_lexer": "ipython3",
   "version": "3.12.1"
  }
 },
 "nbformat": 4,
 "nbformat_minor": 5
}

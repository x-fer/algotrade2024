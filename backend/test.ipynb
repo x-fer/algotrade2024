{
 "cells": [
  {
   "cell_type": "code",
   "execution_count": 8,
   "id": "25d31bcd-1861-4583-ac64-45f421e99440",
   "metadata": {},
   "outputs": [],
   "source": [
    "import requests"
   ]
  },
  {
   "cell_type": "code",
   "execution_count": 9,
   "id": "b5b58cce-d433-4f3d-8f84-42aae47ee77e",
   "metadata": {},
   "outputs": [],
   "source": [
    "team_secret = \"gogi\""
   ]
  },
  {
   "cell_type": "code",
   "execution_count": 10,
   "id": "d7081395-6abc-460c-ad08-9b081e2ecfa1",
   "metadata": {},
   "outputs": [],
   "source": [
    "addr = \"http://localhost:3004\""
   ]
  },
  {
   "cell_type": "code",
   "execution_count": 11,
   "id": "9af62673-65be-4e1c-b75e-629e9c3973e5",
   "metadata": {},
   "outputs": [],
   "source": [
    "def game_list():\n",
    "    url = f\"{addr}/game/list?team_secret={team_secret}\"\n",
    "    print(url)\n",
    "    response = requests.get(url)\n",
    "    return response.json()"
   ]
  },
  {
   "cell_type": "code",
   "execution_count": 12,
   "id": "2d4a7e04-4e17-43d8-97d5-829efe28718b",
   "metadata": {},
   "outputs": [],
   "source": [
    "def list_player():\n",
    "    url = f\"{addr}/game/{game_id}/player/list\"\n",
    "    return requests.get(url, params={\"team_secret\": team_secret}).json()"
   ]
  },
  {
   "cell_type": "code",
   "execution_count": 13,
   "id": "6d683616-e891-493e-b7ea-9656bd1aad62",
   "metadata": {},
   "outputs": [],
   "source": [
    "def create_player():\n",
    "    url = f\"{addr}/game/{game_id}/player/create\"\n",
    "    return requests.post(url, params={\"team_secret\": team_secret}).json()"
   ]
  },
  {
   "cell_type": "code",
   "execution_count": 14,
   "id": "e4df7b4e-210f-43e9-998a-252be2cd4629",
   "metadata": {},
   "outputs": [],
   "source": [
    "def get_player():\n",
    "    url = f\"{addr}/game/{game_id}/player/{player_id}\"\n",
    "    return requests.get(url, params={\"team_secret\": team_secret}).json()"
   ]
  },
  {
   "cell_type": "code",
   "execution_count": 29,
   "id": "84721896-603e-4e57-bebf-92f767410b98",
   "metadata": {},
   "outputs": [],
   "source": [
    "def get_prices(start_tick=None, end_tick=None):\n",
    "    url = f\"{addr}/game/{game_id}/market/prices\"\n",
    "    params = {\"team_secret\": team_secret}\n",
    "    if start_tick: params[\"start_tick\"] = start_tick\n",
    "    if end_tick: params[\"end_tick\"] = end_tick\n",
    "    return requests.get(url, params=params).json()"
   ]
  },
  {
   "cell_type": "code",
   "execution_count": 16,
   "id": "0d4836fb-959d-45d5-9f99-29e6134dfe94",
   "metadata": {},
   "outputs": [
    {
     "data": {
      "text/plain": [
       "{'player_id': 9, 'player_name': 'Goranov_tim_1'}"
      ]
     },
     "execution_count": 16,
     "metadata": {},
     "output_type": "execute_result"
    }
   ],
   "source": [
    "game_id = 1\n",
    "create_player()"
   ]
  },
  {
   "cell_type": "code",
   "execution_count": 18,
   "id": "568ba6c9-24a2-4732-bfc0-4da63d4b5479",
   "metadata": {},
   "outputs": [],
   "source": [
    "player_id = 9"
   ]
  },
  {
   "cell_type": "code",
   "execution_count": 19,
   "id": "c38850b8-d12f-4d22-adea-c4ed86aef7d3",
   "metadata": {},
   "outputs": [
    {
     "data": {
      "text/plain": [
       "[{'player_id': 9, 'player_name': 'Goranov_tim_1'},\n",
       " {'player_id': 1, 'player_name': 'Goran'}]"
      ]
     },
     "execution_count": 19,
     "metadata": {},
     "output_type": "execute_result"
    }
   ],
   "source": [
    "list_player()"
   ]
  },
  {
   "cell_type": "code",
   "execution_count": 20,
   "id": "79fb7bd3-a2a2-4e49-b25e-8cd9f9575650",
   "metadata": {},
   "outputs": [
    {
     "data": {
      "text/plain": [
       "{'player_id': 9,\n",
       " 'player_name': 'Goranov_tim_1',\n",
       " 'game_id': 1,\n",
       " 'team_id': 2,\n",
       " 'is_active': True,\n",
       " 'is_bot': False,\n",
       " 'energy_price': 1000000000,\n",
       " 'money': 15000,\n",
       " 'energy': 0,\n",
       " 'coal': 0,\n",
       " 'uranium': 0,\n",
       " 'biomass': 0,\n",
       " 'gas': 0,\n",
       " 'oil': 0,\n",
       " 'coal_plants_owned': 0,\n",
       " 'uranium_plants_owned': 0,\n",
       " 'biomass_plants_owned': 0,\n",
       " 'gas_plants_owned': 0,\n",
       " 'oil_plants_owned': 0,\n",
       " 'geothermal_plants_owned': 0,\n",
       " 'wind_plants_owned': 0,\n",
       " 'solar_plants_owned': 0,\n",
       " 'hydro_plants_owned': 0,\n",
       " 'coal_plants_powered': 0,\n",
       " 'uranium_plants_powered': 0,\n",
       " 'biomass_plants_powered': 0,\n",
       " 'gas_plants_powered': 0,\n",
       " 'oil_plants_powered': 0,\n",
       " 'geothermal_plants_powered': 0,\n",
       " 'wind_plants_powered': 0,\n",
       " 'solar_plants_powered': 0,\n",
       " 'hydro_plants_powered': 0}"
      ]
     },
     "execution_count": 20,
     "metadata": {},
     "output_type": "execute_result"
    }
   ],
   "source": [
    "get_player()"
   ]
  },
  {
   "cell_type": "code",
   "execution_count": 33,
   "id": "1071a2e9-18d2-47c7-a87a-fcbd46131e00",
   "metadata": {},
   "outputs": [
    {
     "data": {
      "text/plain": [
       "[{'tick': 1,\n",
       "  'resource': 'ENERGY',\n",
       "  'low': 0,\n",
       "  'high': 0,\n",
       "  'open': 0,\n",
       "  'close': 0,\n",
       "  'market': 0},\n",
       " {'tick': 1,\n",
       "  'resource': 'COAL',\n",
       "  'low': 0,\n",
       "  'high': 0,\n",
       "  'open': 0,\n",
       "  'close': 0,\n",
       "  'market': 0},\n",
       " {'tick': 1,\n",
       "  'resource': 'URANIUM',\n",
       "  'low': 0,\n",
       "  'high': 0,\n",
       "  'open': 0,\n",
       "  'close': 0,\n",
       "  'market': 0},\n",
       " {'tick': 1,\n",
       "  'resource': 'BIOMASS',\n",
       "  'low': 0,\n",
       "  'high': 0,\n",
       "  'open': 0,\n",
       "  'close': 0,\n",
       "  'market': 0},\n",
       " {'tick': 1,\n",
       "  'resource': 'GAS',\n",
       "  'low': 0,\n",
       "  'high': 0,\n",
       "  'open': 0,\n",
       "  'close': 0,\n",
       "  'market': 0},\n",
       " {'tick': 1,\n",
       "  'resource': 'OIL',\n",
       "  'low': 0,\n",
       "  'high': 0,\n",
       "  'open': 0,\n",
       "  'close': 0,\n",
       "  'market': 0},\n",
       " {'tick': 2,\n",
       "  'resource': 'ENERGY',\n",
       "  'low': 0,\n",
       "  'high': 0,\n",
       "  'open': 0,\n",
       "  'close': 0,\n",
       "  'market': 0},\n",
       " {'tick': 2,\n",
       "  'resource': 'COAL',\n",
       "  'low': 0,\n",
       "  'high': 0,\n",
       "  'open': 0,\n",
       "  'close': 0,\n",
       "  'market': 0},\n",
       " {'tick': 2,\n",
       "  'resource': 'URANIUM',\n",
       "  'low': 0,\n",
       "  'high': 0,\n",
       "  'open': 0,\n",
       "  'close': 0,\n",
       "  'market': 0},\n",
       " {'tick': 2,\n",
       "  'resource': 'BIOMASS',\n",
       "  'low': 0,\n",
       "  'high': 0,\n",
       "  'open': 0,\n",
       "  'close': 0,\n",
       "  'market': 0},\n",
       " {'tick': 2,\n",
       "  'resource': 'GAS',\n",
       "  'low': 0,\n",
       "  'high': 0,\n",
       "  'open': 0,\n",
       "  'close': 0,\n",
       "  'market': 0},\n",
       " {'tick': 2,\n",
       "  'resource': 'OIL',\n",
       "  'low': 0,\n",
       "  'high': 0,\n",
       "  'open': 0,\n",
       "  'close': 0,\n",
       "  'market': 0}]"
      ]
     },
     "execution_count": 33,
     "metadata": {},
     "output_type": "execute_result"
    }
   ],
   "source": [
    "get_prices(1, 2)"
   ]
  },
  {
   "cell_type": "markdown",
   "id": "a28cb91b-f4e5-44a5-a9ab-e9c86fc2e9cc",
   "metadata": {},
   "source": [
    "#\n",
    "\n"
   ]
  }
 ],
 "metadata": {
  "kernelspec": {
   "display_name": "Python 3 (ipykernel)",
   "language": "python",
   "name": "python3"
  },
  "language_info": {
   "codemirror_mode": {
    "name": "ipython",
    "version": 3
   },
   "file_extension": ".py",
   "mimetype": "text/x-python",
   "name": "python",
   "nbconvert_exporter": "python",
   "pygments_lexer": "ipython3",
   "version": "3.12.1"
  }
 },
 "nbformat": 4,
 "nbformat_minor": 5
}
